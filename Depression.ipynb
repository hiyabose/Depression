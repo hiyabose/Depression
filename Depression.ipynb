{
  "nbformat": 4,
  "nbformat_minor": 0,
  "metadata": {
    "colab": {
      "name": "Depression",
      "provenance": [],
      "authorship_tag": "ABX9TyP6P4Q1YhXgu06KhO7FUmvM",
      "include_colab_link": true
    },
    "kernelspec": {
      "name": "python3",
      "display_name": "Python 3"
    }
  },
  "cells": [
    {
      "cell_type": "markdown",
      "metadata": {
        "id": "view-in-github",
        "colab_type": "text"
      },
      "source": [
        "<a href=\"https://colab.research.google.com/github/hiyabose/Depression/blob/master/Depression.ipynb\" target=\"_parent\"><img src=\"https://colab.research.google.com/assets/colab-badge.svg\" alt=\"Open In Colab\"/></a>"
      ]
    },
    {
      "cell_type": "markdown",
      "metadata": {
        "id": "EmnA_6tcKmqg",
        "colab_type": "text"
      },
      "source": [
        "1. Import all the libraries for predictive modelling"
      ]
    },
    {
      "cell_type": "code",
      "metadata": {
        "id": "xVnSeFqbIT-3",
        "colab_type": "code",
        "colab": {}
      },
      "source": [
        "import numpy as np #create arrays\n",
        "import pandas.util.testing as tm\n",
        "import pandas as pd\n",
        "import matplotlib.pyplot as plt #plot data\n",
        "import seaborn as sns #plot data\n",
        "import missingno as ms #plot missing data"
      ],
      "execution_count": 10,
      "outputs": []
    },
    {
      "cell_type": "markdown",
      "metadata": {
        "id": "IKnrnTflKlh6",
        "colab_type": "text"
      },
      "source": [
        "2. Data Cleaning"
      ]
    },
    {
      "cell_type": "code",
      "metadata": {
        "id": "ncylD9HSKd62",
        "colab_type": "code",
        "colab": {}
      },
      "source": [
        "url='https://raw.githubusercontent.com/hiyabose/Depression/master/depressiondataset.csv'\n",
        "df = pd.read_csv(url)\n"
      ],
      "execution_count": 11,
      "outputs": []
    },
    {
      "cell_type": "code",
      "metadata": {
        "id": "-lUwkXXsLDic",
        "colab_type": "code",
        "colab": {
          "base_uri": "https://localhost:8080/",
          "height": 215
        },
        "outputId": "b491aec9-d21f-4489-d514-8652573b4295"
      },
      "source": [
        "df.head()"
      ],
      "execution_count": 12,
      "outputs": [
        {
          "output_type": "execute_result",
          "data": {
            "text/html": [
              "<div>\n",
              "<style scoped>\n",
              "    .dataframe tbody tr th:only-of-type {\n",
              "        vertical-align: middle;\n",
              "    }\n",
              "\n",
              "    .dataframe tbody tr th {\n",
              "        vertical-align: top;\n",
              "    }\n",
              "\n",
              "    .dataframe thead th {\n",
              "        text-align: right;\n",
              "    }\n",
              "</style>\n",
              "<table border=\"1\" class=\"dataframe\">\n",
              "  <thead>\n",
              "    <tr style=\"text-align: right;\">\n",
              "      <th></th>\n",
              "      <th>Survey_id</th>\n",
              "      <th>Ville_id</th>\n",
              "      <th>sex</th>\n",
              "      <th>Age</th>\n",
              "      <th>Married</th>\n",
              "      <th>Number_children</th>\n",
              "      <th>education_level</th>\n",
              "      <th>total_members</th>\n",
              "      <th>gained_asset</th>\n",
              "      <th>durable_asset</th>\n",
              "      <th>save_asset</th>\n",
              "      <th>living_expenses</th>\n",
              "      <th>other_expenses</th>\n",
              "      <th>incoming_salary</th>\n",
              "      <th>incoming_own_farm</th>\n",
              "      <th>incoming_business</th>\n",
              "      <th>incoming_no_business</th>\n",
              "      <th>incoming_agricultural</th>\n",
              "      <th>farm_expenses</th>\n",
              "      <th>labor_primary</th>\n",
              "      <th>lasting_investment</th>\n",
              "      <th>no_lasting_investmen</th>\n",
              "      <th>depressed</th>\n",
              "    </tr>\n",
              "  </thead>\n",
              "  <tbody>\n",
              "    <tr>\n",
              "      <th>0</th>\n",
              "      <td>926</td>\n",
              "      <td>91</td>\n",
              "      <td>1</td>\n",
              "      <td>28</td>\n",
              "      <td>1</td>\n",
              "      <td>4</td>\n",
              "      <td>10</td>\n",
              "      <td>5</td>\n",
              "      <td>28912201</td>\n",
              "      <td>22861940</td>\n",
              "      <td>23399979</td>\n",
              "      <td>26692283</td>\n",
              "      <td>28203066</td>\n",
              "      <td>0</td>\n",
              "      <td>0</td>\n",
              "      <td>0</td>\n",
              "      <td>0</td>\n",
              "      <td>30028818</td>\n",
              "      <td>31363432</td>\n",
              "      <td>0</td>\n",
              "      <td>28411718</td>\n",
              "      <td>28292707.0</td>\n",
              "      <td>0</td>\n",
              "    </tr>\n",
              "    <tr>\n",
              "      <th>1</th>\n",
              "      <td>747</td>\n",
              "      <td>57</td>\n",
              "      <td>1</td>\n",
              "      <td>23</td>\n",
              "      <td>1</td>\n",
              "      <td>3</td>\n",
              "      <td>8</td>\n",
              "      <td>5</td>\n",
              "      <td>28912201</td>\n",
              "      <td>22861940</td>\n",
              "      <td>23399979</td>\n",
              "      <td>26692283</td>\n",
              "      <td>28203066</td>\n",
              "      <td>0</td>\n",
              "      <td>0</td>\n",
              "      <td>0</td>\n",
              "      <td>0</td>\n",
              "      <td>30028818</td>\n",
              "      <td>31363432</td>\n",
              "      <td>0</td>\n",
              "      <td>28411718</td>\n",
              "      <td>28292707.0</td>\n",
              "      <td>1</td>\n",
              "    </tr>\n",
              "    <tr>\n",
              "      <th>2</th>\n",
              "      <td>1190</td>\n",
              "      <td>115</td>\n",
              "      <td>1</td>\n",
              "      <td>22</td>\n",
              "      <td>1</td>\n",
              "      <td>3</td>\n",
              "      <td>9</td>\n",
              "      <td>5</td>\n",
              "      <td>28912201</td>\n",
              "      <td>22861940</td>\n",
              "      <td>23399979</td>\n",
              "      <td>26692283</td>\n",
              "      <td>28203066</td>\n",
              "      <td>0</td>\n",
              "      <td>0</td>\n",
              "      <td>0</td>\n",
              "      <td>0</td>\n",
              "      <td>30028818</td>\n",
              "      <td>31363432</td>\n",
              "      <td>0</td>\n",
              "      <td>28411718</td>\n",
              "      <td>28292707.0</td>\n",
              "      <td>0</td>\n",
              "    </tr>\n",
              "    <tr>\n",
              "      <th>3</th>\n",
              "      <td>1065</td>\n",
              "      <td>97</td>\n",
              "      <td>1</td>\n",
              "      <td>27</td>\n",
              "      <td>1</td>\n",
              "      <td>2</td>\n",
              "      <td>10</td>\n",
              "      <td>4</td>\n",
              "      <td>52667108</td>\n",
              "      <td>19698904</td>\n",
              "      <td>49647648</td>\n",
              "      <td>397715</td>\n",
              "      <td>44042267</td>\n",
              "      <td>0</td>\n",
              "      <td>1</td>\n",
              "      <td>0</td>\n",
              "      <td>1</td>\n",
              "      <td>22288055</td>\n",
              "      <td>18751329</td>\n",
              "      <td>0</td>\n",
              "      <td>7781123</td>\n",
              "      <td>69219765.0</td>\n",
              "      <td>0</td>\n",
              "    </tr>\n",
              "    <tr>\n",
              "      <th>4</th>\n",
              "      <td>806</td>\n",
              "      <td>42</td>\n",
              "      <td>0</td>\n",
              "      <td>59</td>\n",
              "      <td>0</td>\n",
              "      <td>4</td>\n",
              "      <td>10</td>\n",
              "      <td>6</td>\n",
              "      <td>82606287</td>\n",
              "      <td>17352654</td>\n",
              "      <td>23399979</td>\n",
              "      <td>80877619</td>\n",
              "      <td>74503502</td>\n",
              "      <td>1</td>\n",
              "      <td>0</td>\n",
              "      <td>0</td>\n",
              "      <td>0</td>\n",
              "      <td>53384566</td>\n",
              "      <td>20731006</td>\n",
              "      <td>1</td>\n",
              "      <td>20100562</td>\n",
              "      <td>43419447.0</td>\n",
              "      <td>0</td>\n",
              "    </tr>\n",
              "  </tbody>\n",
              "</table>\n",
              "</div>"
            ],
            "text/plain": [
              "   Survey_id  Ville_id  ...  no_lasting_investmen  depressed\n",
              "0        926        91  ...            28292707.0          0\n",
              "1        747        57  ...            28292707.0          1\n",
              "2       1190       115  ...            28292707.0          0\n",
              "3       1065        97  ...            69219765.0          0\n",
              "4        806        42  ...            43419447.0          0\n",
              "\n",
              "[5 rows x 23 columns]"
            ]
          },
          "metadata": {
            "tags": []
          },
          "execution_count": 12
        }
      ]
    },
    {
      "cell_type": "code",
      "metadata": {
        "id": "vEDK2cCVLKSs",
        "colab_type": "code",
        "colab": {
          "base_uri": "https://localhost:8080/",
          "height": 521
        },
        "outputId": "25485fae-eb57-4a39-e0f2-4dd7c16c445b"
      },
      "source": [
        "df.info()"
      ],
      "execution_count": 13,
      "outputs": [
        {
          "output_type": "stream",
          "text": [
            "<class 'pandas.core.frame.DataFrame'>\n",
            "RangeIndex: 1429 entries, 0 to 1428\n",
            "Data columns (total 23 columns):\n",
            " #   Column                 Non-Null Count  Dtype  \n",
            "---  ------                 --------------  -----  \n",
            " 0   Survey_id              1429 non-null   int64  \n",
            " 1   Ville_id               1429 non-null   int64  \n",
            " 2   sex                    1429 non-null   int64  \n",
            " 3   Age                    1429 non-null   int64  \n",
            " 4   Married                1429 non-null   int64  \n",
            " 5   Number_children        1429 non-null   int64  \n",
            " 6   education_level        1429 non-null   int64  \n",
            " 7   total_members          1429 non-null   int64  \n",
            " 8   gained_asset           1429 non-null   int64  \n",
            " 9   durable_asset          1429 non-null   int64  \n",
            " 10  save_asset             1429 non-null   int64  \n",
            " 11  living_expenses        1429 non-null   int64  \n",
            " 12  other_expenses         1429 non-null   int64  \n",
            " 13  incoming_salary        1429 non-null   int64  \n",
            " 14  incoming_own_farm      1429 non-null   int64  \n",
            " 15  incoming_business      1429 non-null   int64  \n",
            " 16  incoming_no_business   1429 non-null   int64  \n",
            " 17  incoming_agricultural  1429 non-null   int64  \n",
            " 18  farm_expenses          1429 non-null   int64  \n",
            " 19  labor_primary          1429 non-null   int64  \n",
            " 20  lasting_investment     1429 non-null   int64  \n",
            " 21  no_lasting_investmen   1409 non-null   float64\n",
            " 22  depressed              1429 non-null   int64  \n",
            "dtypes: float64(1), int64(22)\n",
            "memory usage: 256.9 KB\n"
          ],
          "name": "stdout"
        }
      ]
    },
    {
      "cell_type": "markdown",
      "metadata": {
        "id": "j5gGM-SoL0m7",
        "colab_type": "text"
      },
      "source": [
        "We can see there are 1429 rows of data and there are a few missing values in 'no_lasting_investment' columns."
      ]
    },
    {
      "cell_type": "code",
      "metadata": {
        "id": "4_IN-3cJLzsJ",
        "colab_type": "code",
        "colab": {
          "base_uri": "https://localhost:8080/",
          "height": 715
        },
        "outputId": "b72af159-320e-4348-ef6e-5a40947a858b"
      },
      "source": [
        "ms.matrix(df)"
      ],
      "execution_count": 14,
      "outputs": [
        {
          "output_type": "execute_result",
          "data": {
            "text/plain": [
              "<matplotlib.axes._subplots.AxesSubplot at 0x7f58ebb0b828>"
            ]
          },
          "metadata": {
            "tags": []
          },
          "execution_count": 14
        },
        {
          "output_type": "display_data",
          "data": {
            "image/png": "[encoded data removed]",
            "text/plain": [
              "<Figure size 1800x720 with 2 Axes>"
            ]
          },
          "metadata": {
            "tags": [],
            "needs_background": "light"
          }
        }
      ]
    },
    {
      "cell_type": "code",
      "metadata": {
        "id": "0v2-PJDEMMVX",
        "colab_type": "code",
        "colab": {
          "base_uri": "https://localhost:8080/",
          "height": 34
        },
        "outputId": "bf60f65f-42c9-4853-a6a3-78c42f8e29b7"
      },
      "source": [
        "sum(df['no_lasting_investmen'].isna())"
      ],
      "execution_count": 15,
      "outputs": [
        {
          "output_type": "execute_result",
          "data": {
            "text/plain": [
              "20"
            ]
          },
          "metadata": {
            "tags": []
          },
          "execution_count": 15
        }
      ]
    },
    {
      "cell_type": "markdown",
      "metadata": {
        "id": "21QDrPKUMc4D",
        "colab_type": "text"
      },
      "source": [
        "So, we can see that there are 20 missing values. I will fix it"
      ]
    },
    {
      "cell_type": "code",
      "metadata": {
        "id": "NNYIF_J7Mk9y",
        "colab_type": "code",
        "colab": {
          "base_uri": "https://localhost:8080/",
          "height": 34
        },
        "outputId": "f7cf3d3d-b7e2-466a-ef79-a68e929eea71"
      },
      "source": [
        "df1=df.interpolate(method ='linear', limit_direction ='forward') \n",
        "sum(df1['no_lasting_investmen'].isna())"
      ],
      "execution_count": 16,
      "outputs": [
        {
          "output_type": "execute_result",
          "data": {
            "text/plain": [
              "0"
            ]
          },
          "metadata": {
            "tags": []
          },
          "execution_count": 16
        }
      ]
    },
    {
      "cell_type": "markdown",
      "metadata": {
        "id": "W4ljkxA2M8Pf",
        "colab_type": "text"
      },
      "source": [
        "Thus we can see that our new dataset do not contain any missing values."
      ]
    },
    {
      "cell_type": "code",
      "metadata": {
        "id": "7uKH750vNGE8",
        "colab_type": "code",
        "colab": {
          "base_uri": "https://localhost:8080/",
          "height": 521
        },
        "outputId": "af2d538e-9162-48ec-ae7a-46d7f5708036"
      },
      "source": [
        "df1.info()"
      ],
      "execution_count": 17,
      "outputs": [
        {
          "output_type": "stream",
          "text": [
            "<class 'pandas.core.frame.DataFrame'>\n",
            "RangeIndex: 1429 entries, 0 to 1428\n",
            "Data columns (total 23 columns):\n",
            " #   Column                 Non-Null Count  Dtype  \n",
            "---  ------                 --------------  -----  \n",
            " 0   Survey_id              1429 non-null   int64  \n",
            " 1   Ville_id               1429 non-null   int64  \n",
            " 2   sex                    1429 non-null   int64  \n",
            " 3   Age                    1429 non-null   int64  \n",
            " 4   Married                1429 non-null   int64  \n",
            " 5   Number_children        1429 non-null   int64  \n",
            " 6   education_level        1429 non-null   int64  \n",
            " 7   total_members          1429 non-null   int64  \n",
            " 8   gained_asset           1429 non-null   int64  \n",
            " 9   durable_asset          1429 non-null   int64  \n",
            " 10  save_asset             1429 non-null   int64  \n",
            " 11  living_expenses        1429 non-null   int64  \n",
            " 12  other_expenses         1429 non-null   int64  \n",
            " 13  incoming_salary        1429 non-null   int64  \n",
            " 14  incoming_own_farm      1429 non-null   int64  \n",
            " 15  incoming_business      1429 non-null   int64  \n",
            " 16  incoming_no_business   1429 non-null   int64  \n",
            " 17  incoming_agricultural  1429 non-null   int64  \n",
            " 18  farm_expenses          1429 non-null   int64  \n",
            " 19  labor_primary          1429 non-null   int64  \n",
            " 20  lasting_investment     1429 non-null   int64  \n",
            " 21  no_lasting_investmen   1429 non-null   float64\n",
            " 22  depressed              1429 non-null   int64  \n",
            "dtypes: float64(1), int64(22)\n",
            "memory usage: 256.9 KB\n"
          ],
          "name": "stdout"
        }
      ]
    },
    {
      "cell_type": "code",
      "metadata": {
        "id": "MRYG8_1JNLso",
        "colab_type": "code",
        "colab": {
          "base_uri": "https://localhost:8080/",
          "height": 420
        },
        "outputId": "7331b458-0063-4771-e14b-d10c3fab3cff"
      },
      "source": [
        "df1.max()"
      ],
      "execution_count": 18,
      "outputs": [
        {
          "output_type": "execute_result",
          "data": {
            "text/plain": [
              "Survey_id                    1429.0\n",
              "Ville_id                      292.0\n",
              "sex                             1.0\n",
              "Age                            91.0\n",
              "Married                         1.0\n",
              "Number_children                11.0\n",
              "education_level                19.0\n",
              "total_members                  12.0\n",
              "gained_asset             99127548.0\n",
              "durable_asset            99615601.0\n",
              "save_asset               99926758.0\n",
              "living_expenses          99295282.0\n",
              "other_expenses           99823799.0\n",
              "incoming_salary                 1.0\n",
              "incoming_own_farm               1.0\n",
              "incoming_business               1.0\n",
              "incoming_no_business            1.0\n",
              "incoming_agricultural    99789095.0\n",
              "farm_expenses            99651194.0\n",
              "labor_primary                   1.0\n",
              "lasting_investment       99446667.0\n",
              "no_lasting_investmen     99651194.0\n",
              "depressed                       1.0\n",
              "dtype: float64"
            ]
          },
          "metadata": {
            "tags": []
          },
          "execution_count": 18
        }
      ]
    },
    {
      "cell_type": "code",
      "metadata": {
        "id": "sBvy18ZlNjle",
        "colab_type": "code",
        "colab": {
          "base_uri": "https://localhost:8080/",
          "height": 304
        },
        "outputId": "cd969a7f-cf0a-497a-e773-e6f041c363cf"
      },
      "source": [
        "df1.describe()"
      ],
      "execution_count": 19,
      "outputs": [
        {
          "output_type": "execute_result",
          "data": {
            "text/html": [
              "<div>\n",
              "<style scoped>\n",
              "    .dataframe tbody tr th:only-of-type {\n",
              "        vertical-align: middle;\n",
              "    }\n",
              "\n",
              "    .dataframe tbody tr th {\n",
              "        vertical-align: top;\n",
              "    }\n",
              "\n",
              "    .dataframe thead th {\n",
              "        text-align: right;\n",
              "    }\n",
              "</style>\n",
              "<table border=\"1\" class=\"dataframe\">\n",
              "  <thead>\n",
              "    <tr style=\"text-align: right;\">\n",
              "      <th></th>\n",
              "      <th>Survey_id</th>\n",
              "      <th>Ville_id</th>\n",
              "      <th>sex</th>\n",
              "      <th>Age</th>\n",
              "      <th>Married</th>\n",
              "      <th>Number_children</th>\n",
              "      <th>education_level</th>\n",
              "      <th>total_members</th>\n",
              "      <th>gained_asset</th>\n",
              "      <th>durable_asset</th>\n",
              "      <th>save_asset</th>\n",
              "      <th>living_expenses</th>\n",
              "      <th>other_expenses</th>\n",
              "      <th>incoming_salary</th>\n",
              "      <th>incoming_own_farm</th>\n",
              "      <th>incoming_business</th>\n",
              "      <th>incoming_no_business</th>\n",
              "      <th>incoming_agricultural</th>\n",
              "      <th>farm_expenses</th>\n",
              "      <th>labor_primary</th>\n",
              "      <th>lasting_investment</th>\n",
              "      <th>no_lasting_investmen</th>\n",
              "      <th>depressed</th>\n",
              "    </tr>\n",
              "  </thead>\n",
              "  <tbody>\n",
              "    <tr>\n",
              "      <th>count</th>\n",
              "      <td>1429.00000</td>\n",
              "      <td>1429.000000</td>\n",
              "      <td>1429.000000</td>\n",
              "      <td>1429.000000</td>\n",
              "      <td>1429.000000</td>\n",
              "      <td>1429.000000</td>\n",
              "      <td>1429.000000</td>\n",
              "      <td>1429.000000</td>\n",
              "      <td>1.429000e+03</td>\n",
              "      <td>1.429000e+03</td>\n",
              "      <td>1.429000e+03</td>\n",
              "      <td>1.429000e+03</td>\n",
              "      <td>1.429000e+03</td>\n",
              "      <td>1429.000000</td>\n",
              "      <td>1429.000000</td>\n",
              "      <td>1429.000000</td>\n",
              "      <td>1429.000000</td>\n",
              "      <td>1.429000e+03</td>\n",
              "      <td>1.429000e+03</td>\n",
              "      <td>1429.000000</td>\n",
              "      <td>1.429000e+03</td>\n",
              "      <td>1.429000e+03</td>\n",
              "      <td>1429.000000</td>\n",
              "    </tr>\n",
              "    <tr>\n",
              "      <th>mean</th>\n",
              "      <td>715.00000</td>\n",
              "      <td>76.286214</td>\n",
              "      <td>0.918125</td>\n",
              "      <td>34.777467</td>\n",
              "      <td>0.772568</td>\n",
              "      <td>2.883135</td>\n",
              "      <td>8.687194</td>\n",
              "      <td>4.969209</td>\n",
              "      <td>3.363448e+07</td>\n",
              "      <td>2.717296e+07</td>\n",
              "      <td>2.742471e+07</td>\n",
              "      <td>3.248257e+07</td>\n",
              "      <td>3.366632e+07</td>\n",
              "      <td>0.179846</td>\n",
              "      <td>0.251924</td>\n",
              "      <td>0.107768</td>\n",
              "      <td>0.260322</td>\n",
              "      <td>3.451039e+07</td>\n",
              "      <td>3.549153e+07</td>\n",
              "      <td>0.213436</td>\n",
              "      <td>3.299222e+07</td>\n",
              "      <td>3.353645e+07</td>\n",
              "      <td>0.166550</td>\n",
              "    </tr>\n",
              "    <tr>\n",
              "      <th>std</th>\n",
              "      <td>412.66108</td>\n",
              "      <td>66.444012</td>\n",
              "      <td>0.274271</td>\n",
              "      <td>13.986219</td>\n",
              "      <td>0.419320</td>\n",
              "      <td>1.874472</td>\n",
              "      <td>2.923532</td>\n",
              "      <td>1.786317</td>\n",
              "      <td>2.003854e+07</td>\n",
              "      <td>1.815672e+07</td>\n",
              "      <td>1.775137e+07</td>\n",
              "      <td>2.101528e+07</td>\n",
              "      <td>2.170266e+07</td>\n",
              "      <td>0.384194</td>\n",
              "      <td>0.434270</td>\n",
              "      <td>0.310195</td>\n",
              "      <td>0.438964</td>\n",
              "      <td>2.077846e+07</td>\n",
              "      <td>2.112372e+07</td>\n",
              "      <td>0.409876</td>\n",
              "      <td>2.121621e+07</td>\n",
              "      <td>2.149912e+07</td>\n",
              "      <td>0.372704</td>\n",
              "    </tr>\n",
              "    <tr>\n",
              "      <th>min</th>\n",
              "      <td>1.00000</td>\n",
              "      <td>1.000000</td>\n",
              "      <td>0.000000</td>\n",
              "      <td>17.000000</td>\n",
              "      <td>0.000000</td>\n",
              "      <td>0.000000</td>\n",
              "      <td>1.000000</td>\n",
              "      <td>1.000000</td>\n",
              "      <td>3.251120e+05</td>\n",
              "      <td>1.625560e+05</td>\n",
              "      <td>1.729660e+05</td>\n",
              "      <td>2.629190e+05</td>\n",
              "      <td>1.729660e+05</td>\n",
              "      <td>0.000000</td>\n",
              "      <td>0.000000</td>\n",
              "      <td>0.000000</td>\n",
              "      <td>0.000000</td>\n",
              "      <td>3.251120e+05</td>\n",
              "      <td>2.715050e+05</td>\n",
              "      <td>0.000000</td>\n",
              "      <td>7.429200e+04</td>\n",
              "      <td>1.263120e+05</td>\n",
              "      <td>0.000000</td>\n",
              "    </tr>\n",
              "    <tr>\n",
              "      <th>25%</th>\n",
              "      <td>358.00000</td>\n",
              "      <td>24.000000</td>\n",
              "      <td>1.000000</td>\n",
              "      <td>25.000000</td>\n",
              "      <td>1.000000</td>\n",
              "      <td>2.000000</td>\n",
              "      <td>8.000000</td>\n",
              "      <td>4.000000</td>\n",
              "      <td>2.326982e+07</td>\n",
              "      <td>1.929852e+07</td>\n",
              "      <td>2.339998e+07</td>\n",
              "      <td>2.088671e+07</td>\n",
              "      <td>2.098014e+07</td>\n",
              "      <td>0.000000</td>\n",
              "      <td>0.000000</td>\n",
              "      <td>0.000000</td>\n",
              "      <td>0.000000</td>\n",
              "      <td>2.322229e+07</td>\n",
              "      <td>2.279966e+07</td>\n",
              "      <td>0.000000</td>\n",
              "      <td>2.001911e+07</td>\n",
              "      <td>2.067540e+07</td>\n",
              "      <td>0.000000</td>\n",
              "    </tr>\n",
              "    <tr>\n",
              "      <th>50%</th>\n",
              "      <td>715.00000</td>\n",
              "      <td>57.000000</td>\n",
              "      <td>1.000000</td>\n",
              "      <td>30.000000</td>\n",
              "      <td>1.000000</td>\n",
              "      <td>3.000000</td>\n",
              "      <td>9.000000</td>\n",
              "      <td>5.000000</td>\n",
              "      <td>2.891220e+07</td>\n",
              "      <td>2.286194e+07</td>\n",
              "      <td>2.339998e+07</td>\n",
              "      <td>2.669228e+07</td>\n",
              "      <td>2.820307e+07</td>\n",
              "      <td>0.000000</td>\n",
              "      <td>0.000000</td>\n",
              "      <td>0.000000</td>\n",
              "      <td>0.000000</td>\n",
              "      <td>3.002882e+07</td>\n",
              "      <td>3.136343e+07</td>\n",
              "      <td>0.000000</td>\n",
              "      <td>2.841172e+07</td>\n",
              "      <td>2.829271e+07</td>\n",
              "      <td>0.000000</td>\n",
              "    </tr>\n",
              "    <tr>\n",
              "      <th>75%</th>\n",
              "      <td>1072.00000</td>\n",
              "      <td>105.000000</td>\n",
              "      <td>1.000000</td>\n",
              "      <td>42.000000</td>\n",
              "      <td>1.000000</td>\n",
              "      <td>4.000000</td>\n",
              "      <td>10.000000</td>\n",
              "      <td>6.000000</td>\n",
              "      <td>3.717283e+07</td>\n",
              "      <td>2.656950e+07</td>\n",
              "      <td>2.339998e+07</td>\n",
              "      <td>3.843689e+07</td>\n",
              "      <td>4.051889e+07</td>\n",
              "      <td>0.000000</td>\n",
              "      <td>1.000000</td>\n",
              "      <td>0.000000</td>\n",
              "      <td>1.000000</td>\n",
              "      <td>4.003842e+07</td>\n",
              "      <td>4.348584e+07</td>\n",
              "      <td>0.000000</td>\n",
              "      <td>3.982686e+07</td>\n",
              "      <td>4.114170e+07</td>\n",
              "      <td>0.000000</td>\n",
              "    </tr>\n",
              "    <tr>\n",
              "      <th>max</th>\n",
              "      <td>1429.00000</td>\n",
              "      <td>292.000000</td>\n",
              "      <td>1.000000</td>\n",
              "      <td>91.000000</td>\n",
              "      <td>1.000000</td>\n",
              "      <td>11.000000</td>\n",
              "      <td>19.000000</td>\n",
              "      <td>12.000000</td>\n",
              "      <td>9.912755e+07</td>\n",
              "      <td>9.961560e+07</td>\n",
              "      <td>9.992676e+07</td>\n",
              "      <td>9.929528e+07</td>\n",
              "      <td>9.982380e+07</td>\n",
              "      <td>1.000000</td>\n",
              "      <td>1.000000</td>\n",
              "      <td>1.000000</td>\n",
              "      <td>1.000000</td>\n",
              "      <td>9.978910e+07</td>\n",
              "      <td>9.965119e+07</td>\n",
              "      <td>1.000000</td>\n",
              "      <td>9.944667e+07</td>\n",
              "      <td>9.965119e+07</td>\n",
              "      <td>1.000000</td>\n",
              "    </tr>\n",
              "  </tbody>\n",
              "</table>\n",
              "</div>"
            ],
            "text/plain": [
              "        Survey_id     Ville_id  ...  no_lasting_investmen    depressed\n",
              "count  1429.00000  1429.000000  ...          1.429000e+03  1429.000000\n",
              "mean    715.00000    76.286214  ...          3.353645e+07     0.166550\n",
              "std     412.66108    66.444012  ...          2.149912e+07     0.372704\n",
              "min       1.00000     1.000000  ...          1.263120e+05     0.000000\n",
              "25%     358.00000    24.000000  ...          2.067540e+07     0.000000\n",
              "50%     715.00000    57.000000  ...          2.829271e+07     0.000000\n",
              "75%    1072.00000   105.000000  ...          4.114170e+07     0.000000\n",
              "max    1429.00000   292.000000  ...          9.965119e+07     1.000000\n",
              "\n",
              "[8 rows x 23 columns]"
            ]
          },
          "metadata": {
            "tags": []
          },
          "execution_count": 19
        }
      ]
    },
    {
      "cell_type": "markdown",
      "metadata": {
        "id": "czgYkmVwN0Yt",
        "colab_type": "text"
      },
      "source": [
        "From this we can tell that mid aged people have depressions, more than children or old people"
      ]
    },
    {
      "cell_type": "code",
      "metadata": {
        "id": "v9r3ROCqOD5A",
        "colab_type": "code",
        "colab": {
          "base_uri": "https://localhost:8080/",
          "height": 34
        },
        "outputId": "05dc47ff-7fee-48df-c89a-dee1b516f9be"
      },
      "source": [
        "df1.shape"
      ],
      "execution_count": 21,
      "outputs": [
        {
          "output_type": "execute_result",
          "data": {
            "text/plain": [
              "(1429, 23)"
            ]
          },
          "metadata": {
            "tags": []
          },
          "execution_count": 21
        }
      ]
    },
    {
      "cell_type": "code",
      "metadata": {
        "id": "IJ1NU5CmOE8H",
        "colab_type": "code",
        "colab": {
          "base_uri": "https://localhost:8080/",
          "height": 279
        },
        "outputId": "96b990e3-d2b6-4d9c-a81f-c665bfe81367"
      },
      "source": [
        "sns.swarmplot(y=\"Age\", x=\"depressed\", data=df1)\n",
        "plt.show()"
      ],
      "execution_count": 26,
      "outputs": [
        {
          "output_type": "display_data",
          "data": {
            "image/png": "[encoded data removed]",
            "text/plain": [
              "<Figure size 432x288 with 1 Axes>"
            ]
          },
          "metadata": {
            "tags": [],
            "needs_background": "light"
          }
        }
      ]
    },
    {
      "cell_type": "markdown",
      "metadata": {
        "id": "hJvCAx1LQ86Q",
        "colab_type": "text"
      },
      "source": [
        "Here also we can see that the majority are depressed in their mid life."
      ]
    },
    {
      "cell_type": "code",
      "metadata": {
        "id": "07IIQVwwRql7",
        "colab_type": "code",
        "colab": {}
      },
      "source": [
        "from sklearn.linear_model import LogisticRegression"
      ],
      "execution_count": 30,
      "outputs": []
    },
    {
      "cell_type": "code",
      "metadata": {
        "id": "Ew1BzH1dSAaI",
        "colab_type": "code",
        "colab": {}
      },
      "source": [
        "from sklearn.model_selection import train_test_split"
      ],
      "execution_count": 31,
      "outputs": []
    },
    {
      "cell_type": "code",
      "metadata": {
        "id": "ggWiFmHESS1P",
        "colab_type": "code",
        "colab": {}
      },
      "source": [
        "train = df1.drop(['Survey_id','Ville_id'], axis=1)\n",
        "test = df1['depressed']"
      ],
      "execution_count": 33,
      "outputs": []
    },
    {
      "cell_type": "code",
      "metadata": {
        "id": "GKVtWdMLT2mc",
        "colab_type": "code",
        "colab": {}
      },
      "source": [
        "X_train, X_test, y_train, y_test = train_test_split(train,test, test_size=0.3, random_state=2)"
      ],
      "execution_count": 34,
      "outputs": []
    },
    {
      "cell_type": "code",
      "metadata": {
        "id": "dbnZMzTgUSz8",
        "colab_type": "code",
        "colab": {}
      },
      "source": [
        "reg = LogisticRegression()\n"
      ],
      "execution_count": 35,
      "outputs": []
    },
    {
      "cell_type": "code",
      "metadata": {
        "id": "Yojv8wJJUnhA",
        "colab_type": "code",
        "colab": {
          "base_uri": "https://localhost:8080/",
          "height": 101
        },
        "outputId": "407636b5-20c6-4fe5-b664-3360141b90f1"
      },
      "source": [
        "reg.fit(X_train, y_train)\n"
      ],
      "execution_count": 36,
      "outputs": [
        {
          "output_type": "execute_result",
          "data": {
            "text/plain": [
              "LogisticRegression(C=1.0, class_weight=None, dual=False, fit_intercept=True,\n",
              "                   intercept_scaling=1, l1_ratio=None, max_iter=100,\n",
              "                   multi_class='auto', n_jobs=None, penalty='l2',\n",
              "                   random_state=None, solver='lbfgs', tol=0.0001, verbose=0,\n",
              "                   warm_start=False)"
            ]
          },
          "metadata": {
            "tags": []
          },
          "execution_count": 36
        }
      ]
    },
    {
      "cell_type": "code",
      "metadata": {
        "id": "rGnEyHo2Ut65",
        "colab_type": "code",
        "colab": {}
      },
      "source": [
        "pred = reg.predict(X_test)"
      ],
      "execution_count": 48,
      "outputs": []
    },
    {
      "cell_type": "code",
      "metadata": {
        "id": "V0OvKlgNVK73",
        "colab_type": "code",
        "colab": {
          "base_uri": "https://localhost:8080/",
          "height": 353
        },
        "outputId": "ec6cb210-b48f-432b-fac5-bd2687e80132"
      },
      "source": [
        "pred"
      ],
      "execution_count": 49,
      "outputs": [
        {
          "output_type": "execute_result",
          "data": {
            "text/plain": [
              "array([0, 0, 0, 0, 0, 0, 0, 0, 0, 0, 0, 0, 0, 0, 0, 0, 0, 0, 0, 0, 0, 0,\n",
              "       0, 0, 0, 0, 0, 0, 0, 0, 0, 0, 0, 0, 0, 0, 0, 0, 0, 0, 0, 0, 0, 0,\n",
              "       0, 0, 0, 0, 0, 0, 0, 0, 0, 0, 0, 0, 0, 0, 0, 0, 0, 0, 0, 0, 0, 0,\n",
              "       0, 0, 0, 0, 0, 0, 0, 0, 0, 0, 0, 0, 0, 0, 0, 0, 0, 0, 0, 0, 0, 0,\n",
              "       0, 0, 0, 0, 0, 0, 0, 0, 0, 0, 0, 0, 0, 0, 0, 0, 0, 0, 0, 0, 0, 0,\n",
              "       0, 0, 0, 0, 0, 0, 0, 0, 0, 0, 0, 0, 0, 0, 0, 0, 0, 0, 0, 0, 0, 0,\n",
              "       0, 0, 0, 0, 0, 0, 0, 0, 0, 0, 0, 0, 0, 0, 0, 0, 0, 0, 0, 0, 0, 0,\n",
              "       0, 0, 0, 0, 0, 0, 0, 0, 0, 0, 0, 0, 0, 0, 0, 0, 0, 0, 0, 0, 0, 0,\n",
              "       0, 0, 0, 0, 0, 0, 0, 0, 0, 0, 0, 0, 0, 0, 0, 0, 0, 0, 0, 0, 0, 0,\n",
              "       0, 0, 0, 0, 0, 0, 0, 0, 0, 0, 0, 0, 0, 0, 0, 0, 0, 0, 0, 0, 0, 0,\n",
              "       0, 0, 0, 0, 0, 0, 0, 0, 0, 0, 0, 0, 0, 0, 0, 0, 0, 0, 0, 0, 0, 0,\n",
              "       0, 0, 0, 0, 0, 0, 0, 0, 0, 0, 0, 0, 0, 0, 0, 0, 0, 0, 0, 0, 0, 0,\n",
              "       0, 0, 0, 0, 0, 0, 0, 0, 0, 0, 0, 0, 0, 0, 0, 0, 0, 0, 0, 0, 0, 0,\n",
              "       0, 0, 0, 0, 0, 0, 0, 0, 0, 0, 0, 0, 0, 0, 0, 0, 0, 0, 0, 0, 0, 0,\n",
              "       0, 0, 0, 0, 0, 0, 0, 0, 0, 0, 0, 0, 0, 0, 0, 0, 0, 0, 0, 0, 0, 0,\n",
              "       0, 0, 0, 0, 0, 0, 0, 0, 0, 0, 0, 0, 0, 0, 0, 0, 0, 0, 0, 0, 0, 0,\n",
              "       0, 0, 0, 0, 0, 0, 0, 0, 0, 0, 0, 0, 0, 0, 0, 0, 0, 0, 0, 0, 0, 0,\n",
              "       0, 0, 0, 0, 0, 0, 0, 0, 0, 0, 0, 0, 0, 0, 0, 0, 0, 0, 0, 0, 0, 0,\n",
              "       0, 0, 0, 0, 0, 0, 0, 0, 0, 0, 0, 0, 0, 0, 0, 0, 0, 0, 0, 0, 0, 0,\n",
              "       0, 0, 0, 0, 0, 0, 0, 0, 0, 0, 0])"
            ]
          },
          "metadata": {
            "tags": []
          },
          "execution_count": 49
        }
      ]
    },
    {
      "cell_type": "code",
      "metadata": {
        "id": "aqOjndaJVZr5",
        "colab_type": "code",
        "colab": {
          "base_uri": "https://localhost:8080/",
          "height": 34
        },
        "outputId": "6524b8c6-6bfe-4a0f-ec3b-ff77396595e6"
      },
      "source": [
        "reg.score(X_test, y_test)"
      ],
      "execution_count": 42,
      "outputs": [
        {
          "output_type": "execute_result",
          "data": {
            "text/plain": [
              "0.8251748251748252"
            ]
          },
          "metadata": {
            "tags": []
          },
          "execution_count": 42
        }
      ]
    },
    {
      "cell_type": "code",
      "metadata": {
        "id": "6A9PEzWRc4oI",
        "colab_type": "code",
        "colab": {
          "base_uri": "https://localhost:8080/",
          "height": 34
        },
        "outputId": "8307e183-64cb-4f18-b2bf-53485a667885"
      },
      "source": [
        "pred.shape\n"
      ],
      "execution_count": 50,
      "outputs": [
        {
          "output_type": "execute_result",
          "data": {
            "text/plain": [
              "(429,)"
            ]
          },
          "metadata": {
            "tags": []
          },
          "execution_count": 50
        }
      ]
    },
    {
      "cell_type": "code",
      "metadata": {
        "id": "J0mE565cfG_Z",
        "colab_type": "code",
        "colab": {
          "base_uri": "https://localhost:8080/",
          "height": 34
        },
        "outputId": "fceb35a0-b3af-4518-a9f7-8bc22cd66395"
      },
      "source": [
        "pred[10]"
      ],
      "execution_count": 52,
      "outputs": [
        {
          "output_type": "execute_result",
          "data": {
            "text/plain": [
              "0"
            ]
          },
          "metadata": {
            "tags": []
          },
          "execution_count": 52
        }
      ]
    },
    {
      "cell_type": "code",
      "metadata": {
        "id": "qQWMuXsNfuRc",
        "colab_type": "code",
        "colab": {}
      },
      "source": [
        "from google.colab import drive\n",
        "drive.mount('/content/drive')"
      ],
      "execution_count": null,
      "outputs": []
    },
    {
      "cell_type": "code",
      "metadata": {
        "id": "wLd-UrV_e1V_",
        "colab_type": "code",
        "colab": {
          "base_uri": "https://localhost:8080/",
          "height": 34
        },
        "outputId": "888c856e-ba82-4ee0-95c8-a59c9f1ca101"
      },
      "source": [
        "X_test.shape"
      ],
      "execution_count": 51,
      "outputs": [
        {
          "output_type": "execute_result",
          "data": {
            "text/plain": [
              "(429, 21)"
            ]
          },
          "metadata": {
            "tags": []
          },
          "execution_count": 51
        }
      ]
    },
    {
      "cell_type": "markdown",
      "metadata": {
        "id": "bUOGSIUsVuu6",
        "colab_type": "text"
      },
      "source": [
        "Accuracy rate 82.5% we can say :)"
      ]
    },
    {
      "cell_type": "code",
      "metadata": {
        "id": "7TWELhYxV1GR",
        "colab_type": "code",
        "colab": {}
      },
      "source": [
        "import pickle"
      ],
      "execution_count": 43,
      "outputs": []
    },
    {
      "cell_type": "code",
      "metadata": {
        "id": "b2LgW7dAa483",
        "colab_type": "code",
        "colab": {}
      },
      "source": [
        "pickle.dump(reg,open('model.pkl','wb'))\n",
        "model=pickle.load(open('model.pkl','rb'))"
      ],
      "execution_count": null,
      "outputs": []
    }
  ]
}